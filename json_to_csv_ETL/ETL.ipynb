{
 "cells": [
  {
   "cell_type": "code",
   "execution_count": 38,
   "id": "27caad5a",
   "metadata": {},
   "outputs": [],
   "source": [
    "import pandas as pd\n",
    "import numpy as np"
   ]
  },
  {
   "cell_type": "code",
   "execution_count": 39,
   "id": "c5da46fb",
   "metadata": {},
   "outputs": [],
   "source": [
    "col = ['id', 'name', 'country_id','city',  'address','locality', 'locality_verbose', 'longitude', 'latitude', 'cuisines', \n",
    "      'average_cost_for_two', 'currency', 'has_table_booking', 'has_online_delivery', 'is_delivering_now', \n",
    "       'switch_to_order_menu', 'price_range', 'aggregate_rating', 'rating_color', 'rating_text', 'votes']\n",
    "\n",
    "zem = pd.read_csv('zomato.csv', encoding='latin-1')\n",
    "# col = [col.lower().replace(' ', '_') for col in list(zem.columns)]\n",
    "zem.rename(columns = dict(zip(list(zem.columns), col)), inplace = True)\n",
    "# zem.rename(columns = {'restaurant_id':'id', 'restaurant_name':'name','Country Code': 'country_id'}, inplace = True)\n",
    "zem.to_csv('zomato.csv', index=False)"
   ]
  },
  {
   "cell_type": "code",
   "execution_count": 40,
   "id": "5c222e8f",
   "metadata": {},
   "outputs": [],
   "source": [
    "def ETL(file):\n",
    "    df = pd.read_json(file)\n",
    "    zem = pd.read_csv('zomato.csv')\n",
    "    new_df = df['restaurants'].dropna().to_list()\n",
    "    new1 = []\n",
    "    for i in new_df:\n",
    "        new1.extend(i)\n",
    "    new3 = pd.DataFrame(pd.DataFrame(new1)['restaurant'].to_list())\n",
    "    dict_col = []\n",
    "    for col in new3.columns:\n",
    "        try:\n",
    "            new3[list(new3[col][0].keys())] = new3[col].apply(lambda x: pd.Series(x.values()))\n",
    "            dict_col.append(col)\n",
    "        except:\n",
    "            continue\n",
    "    new3 = new3.drop(columns = dict_col)\n",
    "    new3 = new3[list(zem.columns)]\n",
    "    new3.to_csv(f'{file}.csv', index=False)\n",
    "    zem = pd.concat([zem, new3])\n",
    "    zem.to_csv('zomato.csv', index=False)\n",
    "    print(f'{file} converted sucessfully')\n",
    "    return "
   ]
  },
  {
   "cell_type": "code",
   "execution_count": 41,
   "id": "ec91db5e",
   "metadata": {},
   "outputs": [
    {
     "name": "stdout",
     "output_type": "stream",
     "text": [
      "file1.json converted sucessfully\n",
      "file2.json converted sucessfully\n",
      "file3.json converted sucessfully\n",
      "file4.json converted sucessfully\n"
     ]
    },
    {
     "name": "stderr",
     "output_type": "stream",
     "text": [
      "C:\\Users\\DEEPAK VERMA\\AppData\\Local\\Temp\\ipykernel_17184\\3550164441.py:3: DtypeWarning: Columns (12,13,14,15) have mixed types. Specify dtype option on import or set low_memory=False.\n",
      "  zem = pd.read_csv('zomato.csv')\n"
     ]
    },
    {
     "name": "stdout",
     "output_type": "stream",
     "text": [
      "file5.json converted sucessfully\n"
     ]
    }
   ],
   "source": [
    "for i in range(1, 6):\n",
    "    ETL(f'file{i}.json')"
   ]
  }
 ],
 "metadata": {
  "kernelspec": {
   "display_name": "Python 3 (ipykernel)",
   "language": "python",
   "name": "python3"
  },
  "language_info": {
   "codemirror_mode": {
    "name": "ipython",
    "version": 3
   },
   "file_extension": ".py",
   "mimetype": "text/x-python",
   "name": "python",
   "nbconvert_exporter": "python",
   "pygments_lexer": "ipython3",
   "version": "3.9.12"
  }
 },
 "nbformat": 4,
 "nbformat_minor": 5
}
